{
 "cells": [
  {
   "cell_type": "code",
   "execution_count": null,
   "metadata": {
    "application/vnd.databricks.v1+cell": {
     "cellMetadata": {
      "byteLimit": 2048000,
      "rowLimit": 10000
     },
     "inputWidgets": {},
     "nuid": "6ae80b9c-3990-4134-9527-44db442e26d5",
     "showTitle": false,
     "title": ""
    }
   },
   "outputs": [],
   "source": [
    "import plotly.express as px\n",
    "import plotly.graph_objects as go\n",
    "import matplotlib.pyplot as plt\n",
    "import pandas as pd\n",
    "from pytrends.request import TrendReq\n",
    "from sendgrid import SendGridAPIClient\n",
    "from sendgrid.helpers.mail import Mail, Attachment, FileContent, FileName, FileType, Disposition\n",
    "import os\n",
    "\n",
    "key = os.getenv(\"SG_API_KEY\")\n",
    "keywords_to_monitor = [\"corduroy hat\",\"corduroy pants\",\"trail running pack\"]"
   ]
  },
  {
   "cell_type": "code",
   "execution_count": null,
   "metadata": {
    "application/vnd.databricks.v1+cell": {
     "cellMetadata": {
      "byteLimit": 2048000,
      "rowLimit": 10000
     },
     "inputWidgets": {},
     "nuid": "3801577b-82ee-4e3b-bb71-87ab139284bd",
     "showTitle": false,
     "title": ""
    }
   },
   "outputs": [],
   "source": [
    "def get_interest_trends_kw(keyword, pytrends = TrendReq(hl='en-US')):\n",
    "    kw=keyword\n",
    "    pytrends.build_payload(kw, cat=0, timeframe='today 5-y', geo='US')\n",
    "    df = pytrends.interest_over_time()\n",
    "    df.reset_index(inplace=True)\n",
    "    return df"
   ]
  },
  {
   "cell_type": "code",
   "execution_count": null,
   "metadata": {
    "application/vnd.databricks.v1+cell": {
     "cellMetadata": {
      "byteLimit": 2048000,
      "rowLimit": 10000
     },
     "inputWidgets": {},
     "nuid": "6ad6cf58-112a-4095-a1a8-c086936949d8",
     "showTitle": false,
     "title": ""
    }
   },
   "outputs": [
    {
     "data": {
      "text/html": [
       "<div>\n",
       "<style scoped>\n",
       "    .dataframe tbody tr th:only-of-type {\n",
       "        vertical-align: middle;\n",
       "    }\n",
       "\n",
       "    .dataframe tbody tr th {\n",
       "        vertical-align: top;\n",
       "    }\n",
       "\n",
       "    .dataframe thead th {\n",
       "        text-align: right;\n",
       "    }\n",
       "</style>\n",
       "<table border=\"1\" class=\"dataframe\">\n",
       "  <thead>\n",
       "    <tr style=\"text-align: right;\">\n",
       "      <th></th>\n",
       "      <th>date</th>\n",
       "      <th>corduroy hat</th>\n",
       "      <th>corduroy pants</th>\n",
       "      <th>trail running pack</th>\n",
       "      <th>isPartial</th>\n",
       "    </tr>\n",
       "  </thead>\n",
       "  <tbody>\n",
       "    <tr>\n",
       "      <th>0</th>\n",
       "      <td>2018-11-18</td>\n",
       "      <td>2</td>\n",
       "      <td>48</td>\n",
       "      <td>0</td>\n",
       "      <td>False</td>\n",
       "    </tr>\n",
       "    <tr>\n",
       "      <th>1</th>\n",
       "      <td>2018-11-25</td>\n",
       "      <td>2</td>\n",
       "      <td>50</td>\n",
       "      <td>0</td>\n",
       "      <td>False</td>\n",
       "    </tr>\n",
       "    <tr>\n",
       "      <th>2</th>\n",
       "      <td>2018-12-02</td>\n",
       "      <td>2</td>\n",
       "      <td>45</td>\n",
       "      <td>0</td>\n",
       "      <td>False</td>\n",
       "    </tr>\n",
       "    <tr>\n",
       "      <th>3</th>\n",
       "      <td>2018-12-09</td>\n",
       "      <td>2</td>\n",
       "      <td>46</td>\n",
       "      <td>0</td>\n",
       "      <td>False</td>\n",
       "    </tr>\n",
       "    <tr>\n",
       "      <th>4</th>\n",
       "      <td>2018-12-16</td>\n",
       "      <td>2</td>\n",
       "      <td>38</td>\n",
       "      <td>2</td>\n",
       "      <td>False</td>\n",
       "    </tr>\n",
       "  </tbody>\n",
       "</table>\n",
       "</div>"
      ],
      "text/plain": [
       "        date  corduroy hat  corduroy pants  trail running pack  isPartial\n",
       "0 2018-11-18             2              48                   0      False\n",
       "1 2018-11-25             2              50                   0      False\n",
       "2 2018-12-02             2              45                   0      False\n",
       "3 2018-12-09             2              46                   0      False\n",
       "4 2018-12-16             2              38                   2      False"
      ]
     },
     "execution_count": 5,
     "metadata": {},
     "output_type": "execute_result"
    }
   ],
   "source": [
    "trends = get_interest_trends_kw(keywords_to_monitor)\n",
    "trends.head()"
   ]
  },
  {
   "cell_type": "code",
   "execution_count": null,
   "metadata": {
    "application/vnd.databricks.v1+cell": {
     "cellMetadata": {
      "byteLimit": 2048000,
      "rowLimit": 10000
     },
     "inputWidgets": {},
     "nuid": "372bb5f3-4e41-4506-9a82-7584cf711001",
     "showTitle": false,
     "title": ""
    }
   },
   "outputs": [
    {
     "data": {
      "text/html": [
       "<div>\n",
       "<style scoped>\n",
       "    .dataframe tbody tr th:only-of-type {\n",
       "        vertical-align: middle;\n",
       "    }\n",
       "\n",
       "    .dataframe tbody tr th {\n",
       "        vertical-align: top;\n",
       "    }\n",
       "\n",
       "    .dataframe thead th {\n",
       "        text-align: right;\n",
       "    }\n",
       "</style>\n",
       "<table border=\"1\" class=\"dataframe\">\n",
       "  <thead>\n",
       "    <tr style=\"text-align: right;\">\n",
       "      <th></th>\n",
       "      <th>corduroy hat</th>\n",
       "      <th>corduroy pants</th>\n",
       "      <th>trail running pack</th>\n",
       "    </tr>\n",
       "  </thead>\n",
       "  <tbody>\n",
       "    <tr>\n",
       "      <th>count</th>\n",
       "      <td>260.000000</td>\n",
       "      <td>260.000000</td>\n",
       "      <td>260.000000</td>\n",
       "    </tr>\n",
       "    <tr>\n",
       "      <th>mean</th>\n",
       "      <td>4.000000</td>\n",
       "      <td>32.038462</td>\n",
       "      <td>0.415385</td>\n",
       "    </tr>\n",
       "    <tr>\n",
       "      <th>std</th>\n",
       "      <td>2.331586</td>\n",
       "      <td>19.026259</td>\n",
       "      <td>0.538619</td>\n",
       "    </tr>\n",
       "    <tr>\n",
       "      <th>min</th>\n",
       "      <td>0.000000</td>\n",
       "      <td>7.000000</td>\n",
       "      <td>0.000000</td>\n",
       "    </tr>\n",
       "    <tr>\n",
       "      <th>25%</th>\n",
       "      <td>2.000000</td>\n",
       "      <td>17.750000</td>\n",
       "      <td>0.000000</td>\n",
       "    </tr>\n",
       "    <tr>\n",
       "      <th>50%</th>\n",
       "      <td>3.500000</td>\n",
       "      <td>27.000000</td>\n",
       "      <td>0.000000</td>\n",
       "    </tr>\n",
       "    <tr>\n",
       "      <th>75%</th>\n",
       "      <td>6.000000</td>\n",
       "      <td>44.000000</td>\n",
       "      <td>1.000000</td>\n",
       "    </tr>\n",
       "    <tr>\n",
       "      <th>max</th>\n",
       "      <td>11.000000</td>\n",
       "      <td>100.000000</td>\n",
       "      <td>2.000000</td>\n",
       "    </tr>\n",
       "  </tbody>\n",
       "</table>\n",
       "</div>"
      ],
      "text/plain": [
       "       corduroy hat  corduroy pants  trail running pack\n",
       "count    260.000000      260.000000          260.000000\n",
       "mean       4.000000       32.038462            0.415385\n",
       "std        2.331586       19.026259            0.538619\n",
       "min        0.000000        7.000000            0.000000\n",
       "25%        2.000000       17.750000            0.000000\n",
       "50%        3.500000       27.000000            0.000000\n",
       "75%        6.000000       44.000000            1.000000\n",
       "max       11.000000      100.000000            2.000000"
      ]
     },
     "execution_count": 4,
     "metadata": {},
     "output_type": "execute_result"
    }
   ],
   "source": [
    "# trends.describe()"
   ]
  },
  {
   "cell_type": "code",
   "execution_count": null,
   "metadata": {
    "application/vnd.databricks.v1+cell": {
     "cellMetadata": {
      "byteLimit": 2048000,
      "rowLimit": 10000
     },
     "inputWidgets": {},
     "nuid": "5e5afd33-53b8-4b90-a6c1-f79d1980a36a",
     "showTitle": false,
     "title": ""
    }
   },
   "outputs": [
    {
     "data": {
      "text/plain": [
       "6.0"
      ]
     },
     "execution_count": 10,
     "metadata": {},
     "output_type": "execute_result"
    }
   ],
   "source": [
    "# trends['corduroy hat'].quantile(0.75)"
   ]
  },
  {
   "cell_type": "code",
   "execution_count": null,
   "metadata": {
    "application/vnd.databricks.v1+cell": {
     "cellMetadata": {
      "byteLimit": 2048000,
      "rowLimit": 10000
     },
     "inputWidgets": {},
     "nuid": "c5a30ea3-192c-4d18-89b7-68387e164979",
     "showTitle": false,
     "title": ""
    }
   },
   "outputs": [],
   "source": [
    "def get_anomalous_records(data, date_key : str, metric, quantile_threshold : float = 0.75):\n",
    "\n",
    "    data[date_key] = pd.to_datetime(data[date_key])\n",
    "\n",
    "    # Filter and sort the DataFrame\n",
    "    data = data[[date_key, metric]].sort_values(by=date_key, ascending=False)\n",
    "\n",
    "    # Set timestamp as index\n",
    "    data.set_index(date_key, inplace=True)\n",
    "\n",
    "    # Set 75th Percentile threshold\n",
    "    threshold = data[metric].quantile(quantile_threshold)\n",
    "\n",
    "    # Define a function to set the 'anomaly' column\n",
    "    def set_anomaly(row):\n",
    "        return (row[metric] > threshold)\n",
    "\n",
    "    # Add an 'anomaly' column based on the defined function\n",
    "    data['anomaly'] = data.apply(set_anomaly, axis=1)\n",
    "\n",
    "    # Replace NaN metrics with 0\n",
    "    data_anomaly = data.fillna(0)\n",
    "\n",
    "    return data_anomaly"
   ]
  },
  {
   "cell_type": "code",
   "execution_count": null,
   "metadata": {
    "application/vnd.databricks.v1+cell": {
     "cellMetadata": {
      "byteLimit": 2048000,
      "rowLimit": 10000
     },
     "inputWidgets": {},
     "nuid": "94ff1b8b-75a4-4c5f-b965-11d9909284af",
     "showTitle": false,
     "title": ""
    }
   },
   "outputs": [
    {
     "data": {
      "text/html": [
       "<div>\n",
       "<style scoped>\n",
       "    .dataframe tbody tr th:only-of-type {\n",
       "        vertical-align: middle;\n",
       "    }\n",
       "\n",
       "    .dataframe tbody tr th {\n",
       "        vertical-align: top;\n",
       "    }\n",
       "\n",
       "    .dataframe thead th {\n",
       "        text-align: right;\n",
       "    }\n",
       "</style>\n",
       "<table border=\"1\" class=\"dataframe\">\n",
       "  <thead>\n",
       "    <tr style=\"text-align: right;\">\n",
       "      <th></th>\n",
       "      <th>corduroy hat</th>\n",
       "      <th>anomaly</th>\n",
       "    </tr>\n",
       "    <tr>\n",
       "      <th>date</th>\n",
       "      <th></th>\n",
       "      <th></th>\n",
       "    </tr>\n",
       "  </thead>\n",
       "  <tbody>\n",
       "    <tr>\n",
       "      <th>2023-11-05</th>\n",
       "      <td>10</td>\n",
       "      <td>True</td>\n",
       "    </tr>\n",
       "    <tr>\n",
       "      <th>2023-10-29</th>\n",
       "      <td>7</td>\n",
       "      <td>True</td>\n",
       "    </tr>\n",
       "    <tr>\n",
       "      <th>2023-10-22</th>\n",
       "      <td>11</td>\n",
       "      <td>True</td>\n",
       "    </tr>\n",
       "    <tr>\n",
       "      <th>2023-10-15</th>\n",
       "      <td>10</td>\n",
       "      <td>True</td>\n",
       "    </tr>\n",
       "    <tr>\n",
       "      <th>2023-10-08</th>\n",
       "      <td>9</td>\n",
       "      <td>True</td>\n",
       "    </tr>\n",
       "    <tr>\n",
       "      <th>...</th>\n",
       "      <td>...</td>\n",
       "      <td>...</td>\n",
       "    </tr>\n",
       "    <tr>\n",
       "      <th>2018-12-16</th>\n",
       "      <td>2</td>\n",
       "      <td>False</td>\n",
       "    </tr>\n",
       "    <tr>\n",
       "      <th>2018-12-09</th>\n",
       "      <td>2</td>\n",
       "      <td>False</td>\n",
       "    </tr>\n",
       "    <tr>\n",
       "      <th>2018-12-02</th>\n",
       "      <td>2</td>\n",
       "      <td>False</td>\n",
       "    </tr>\n",
       "    <tr>\n",
       "      <th>2018-11-25</th>\n",
       "      <td>2</td>\n",
       "      <td>False</td>\n",
       "    </tr>\n",
       "    <tr>\n",
       "      <th>2018-11-18</th>\n",
       "      <td>2</td>\n",
       "      <td>False</td>\n",
       "    </tr>\n",
       "  </tbody>\n",
       "</table>\n",
       "<p>260 rows × 2 columns</p>\n",
       "</div>"
      ],
      "text/plain": [
       "            corduroy hat  anomaly\n",
       "date                             \n",
       "2023-11-05            10     True\n",
       "2023-10-29             7     True\n",
       "2023-10-22            11     True\n",
       "2023-10-15            10     True\n",
       "2023-10-08             9     True\n",
       "...                  ...      ...\n",
       "2018-12-16             2    False\n",
       "2018-12-09             2    False\n",
       "2018-12-02             2    False\n",
       "2018-11-25             2    False\n",
       "2018-11-18             2    False\n",
       "\n",
       "[260 rows x 2 columns]"
      ]
     },
     "execution_count": 6,
     "metadata": {},
     "output_type": "execute_result"
    }
   ],
   "source": [
    "# df_anom = get_anomalous_records(trends, \"date\", \"corduroy hat\")\n",
    "# df_anom"
   ]
  },
  {
   "cell_type": "code",
   "execution_count": null,
   "metadata": {
    "application/vnd.databricks.v1+cell": {
     "cellMetadata": {
      "byteLimit": 2048000,
      "rowLimit": 10000
     },
     "inputWidgets": {},
     "nuid": "147f74db-46d2-4023-9a34-a4e1b7f48b56",
     "showTitle": false,
     "title": ""
    }
   },
   "outputs": [],
   "source": [
    "def past_week_anomaly(df_anom):\n",
    "    if df_anom[df_anom.index == df_anom.index.max()][\"anomaly\"][0] == True:\n",
    "        return True"
   ]
  },
  {
   "cell_type": "code",
   "execution_count": null,
   "metadata": {
    "application/vnd.databricks.v1+cell": {
     "cellMetadata": {
      "byteLimit": 2048000,
      "rowLimit": 10000
     },
     "inputWidgets": {},
     "nuid": "9a514063-ca52-438b-9b43-97c1acf018b8",
     "showTitle": false,
     "title": ""
    }
   },
   "outputs": [
    {
     "data": {
      "text/plain": [
       "True"
      ]
     },
     "execution_count": 18,
     "metadata": {},
     "output_type": "execute_result"
    }
   ],
   "source": [
    "# past_week_anomaly(df_anom)"
   ]
  },
  {
   "cell_type": "code",
   "execution_count": null,
   "metadata": {
    "application/vnd.databricks.v1+cell": {
     "cellMetadata": {
      "byteLimit": 2048000,
      "rowLimit": 10000
     },
     "inputWidgets": {},
     "nuid": "59f1d02a-6373-49bf-859c-b87893b57ffe",
     "showTitle": false,
     "title": ""
    }
   },
   "outputs": [],
   "source": [
    "def get_anomaly_trend(df,metric):\n",
    "\n",
    "    fig = px.line(\n",
    "            df,\n",
    "            x=df.index,\n",
    "            y=metric,\n",
    "            title=f\"{metric.title()} Anomalies\",\n",
    "            template = 'plotly_dark')\n",
    "    # create list of outlier_dates\n",
    "    outlier_dates = df[df['anomaly'] == True].index\n",
    "    # obtain y metric of anomalies to plot\n",
    "    y_metrics = [df.loc[i][metric] for i in outlier_dates]\n",
    "    fig.add_trace(\n",
    "        go.Scatter(\n",
    "            x=outlier_dates, \n",
    "            y=y_metrics, \n",
    "            mode = 'markers',\n",
    "            name = 'anomaly',\n",
    "            marker=dict(color='red',size=10)\n",
    "            )\n",
    "        )\n",
    "    # fig_html = fig.to_html(full_html=False)\n",
    "    fig.write_image(f\"anomaly_{metric.replace(' ','_')}.png\")\n",
    "    return fig"
   ]
  },
  {
   "cell_type": "code",
   "execution_count": null,
   "metadata": {
    "application/vnd.databricks.v1+cell": {
     "cellMetadata": {
      "byteLimit": 2048000,
      "rowLimit": 10000
     },
     "inputWidgets": {},
     "nuid": "b6d53bdc-e63b-4d66-98c0-1a42329053f8",
     "showTitle": false,
     "title": ""
    }
   },
   "outputs": [
    {
     "data": {
      "text/html": [
       "<html>\n",
       "<head><meta charset=\"utf-8\" /></head>\n",
       "<body>\n",
       "    <div>            <script src=\"https://cdnjs.cloudflare.com/ajax/libs/mathjax/2.7.5/MathJax.js?config=TeX-AMS-MML_SVG\"></script><script type=\"text/javascript\">if (window.MathJax && window.MathJax.Hub && window.MathJax.Hub.Config) {window.MathJax.Hub.Config({SVG: {font: \"STIX-Web\"}});}</script>                <script type=\"text/javascript\">window.PlotlyConfig = {MathJaxConfig: 'local'};</script>\n",
       "        <script src=\"https://cdn.plot.ly/plotly-2.12.1.min.js\"></script>                <div id=\"20ccc246-02ee-4bba-8661-dd82a8b5d628\" class=\"plotly-graph-div\" style=\"height:100%; width:100%;\"></div>            <script type=\"text/javascript\">                                    window.PLOTLYENV=window.PLOTLYENV || {};                                    if (document.getElementById(\"20ccc246-02ee-4bba-8661-dd82a8b5d628\")) {                    Plotly.newPlot(                        \"20ccc246-02ee-4bba-8661-dd82a8b5d628\",                        [{\"hovertemplate\":\"date=%{x}<br>corduroy hat=%{y}<extra></extra>\",\"legendgroup\":\"\",\"line\":{\"color\":\"#636efa\",\"dash\":\"solid\"},\"marker\":{\"symbol\":\"circle\"},\"mode\":\"lines\",\"name\":\"\",\"orientation\":\"v\",\"showlegend\":false,\"x\":[\"2023-11-05T00:00:00\",\"2023-10-29T00:00:00\",\"2023-10-22T00:00:00\",\"2023-10-15T00:00:00\",\"2023-10-08T00:00:00\",\"2023-10-01T00:00:00\",\"2023-09-24T00:00:00\",\"2023-09-17T00:00:00\",\"2023-09-10T00:00:00\",\"2023-09-03T00:00:00\",\"2023-08-27T00:00:00\",\"2023-08-20T00:00:00\",\"2023-08-13T00:00:00\",\"2023-08-06T00:00:00\",\"2023-07-30T00:00:00\",\"2023-07-23T00:00:00\",\"2023-07-16T00:00:00\",\"2023-07-09T00:00:00\",\"2023-07-02T00:00:00\",\"2023-06-25T00:00:00\",\"2023-06-18T00:00:00\",\"2023-06-11T00:00:00\",\"2023-06-04T00:00:00\",\"2023-05-28T00:00:00\",\"2023-05-21T00:00:00\",\"2023-05-14T00:00:00\",\"2023-05-07T00:00:00\",\"2023-04-30T00:00:00\",\"2023-04-23T00:00:00\",\"2023-04-16T00:00:00\",\"2023-04-09T00:00:00\",\"2023-04-02T00:00:00\",\"2023-03-26T00:00:00\",\"2023-03-19T00:00:00\",\"2023-03-12T00:00:00\",\"2023-03-05T00:00:00\",\"2023-02-26T00:00:00\",\"2023-02-19T00:00:00\",\"2023-02-12T00:00:00\",\"2023-02-05T00:00:00\",\"2023-01-29T00:00:00\",\"2023-01-22T00:00:00\",\"2023-01-15T00:00:00\",\"2023-01-08T00:00:00\",\"2023-01-01T00:00:00\",\"2022-12-25T00:00:00\",\"2022-12-18T00:00:00\",\"2022-12-11T00:00:00\",\"2022-12-04T00:00:00\",\"2022-11-27T00:00:00\",\"2022-11-20T00:00:00\",\"2022-11-13T00:00:00\",\"2022-11-06T00:00:00\",\"2022-10-30T00:00:00\",\"2022-10-23T00:00:00\",\"2022-10-16T00:00:00\",\"2022-10-09T00:00:00\",\"2022-10-02T00:00:00\",\"2022-09-25T00:00:00\",\"2022-09-18T00:00:00\",\"2022-09-11T00:00:00\",\"2022-09-04T00:00:00\",\"2022-08-28T00:00:00\",\"2022-08-21T00:00:00\",\"2022-08-14T00:00:00\",\"2022-08-07T00:00:00\",\"2022-07-31T00:00:00\",\"2022-07-24T00:00:00\",\"2022-07-17T00:00:00\",\"2022-07-10T00:00:00\",\"2022-07-03T00:00:00\",\"2022-06-26T00:00:00\",\"2022-06-19T00:00:00\",\"2022-06-12T00:00:00\",\"2022-06-05T00:00:00\",\"2022-05-29T00:00:00\",\"2022-05-22T00:00:00\",\"2022-05-15T00:00:00\",\"2022-05-08T00:00:00\",\"2022-05-01T00:00:00\",\"2022-04-24T00:00:00\",\"2022-04-17T00:00:00\",\"2022-04-10T00:00:00\",\"2022-04-03T00:00:00\",\"2022-03-27T00:00:00\",\"2022-03-20T00:00:00\",\"2022-03-13T00:00:00\",\"2022-03-06T00:00:00\",\"2022-02-27T00:00:00\",\"2022-02-20T00:00:00\",\"2022-02-13T00:00:00\",\"2022-02-06T00:00:00\",\"2022-01-30T00:00:00\",\"2022-01-23T00:00:00\",\"2022-01-16T00:00:00\",\"2022-01-09T00:00:00\",\"2022-01-02T00:00:00\",\"2021-12-26T00:00:00\",\"2021-12-19T00:00:00\",\"2021-12-12T00:00:00\",\"2021-12-05T00:00:00\",\"2021-11-28T00:00:00\",\"2021-11-21T00:00:00\",\"2021-11-14T00:00:00\",\"2021-11-07T00:00:00\",\"2021-10-31T00:00:00\",\"2021-10-24T00:00:00\",\"2021-10-17T00:00:00\",\"2021-10-10T00:00:00\",\"2021-10-03T00:00:00\",\"2021-09-26T00:00:00\",\"2021-09-19T00:00:00\",\"2021-09-12T00:00:00\",\"2021-09-05T00:00:00\",\"2021-08-29T00:00:00\",\"2021-08-22T00:00:00\",\"2021-08-15T00:00:00\",\"2021-08-08T00:00:00\",\"2021-08-01T00:00:00\",\"2021-07-25T00:00:00\",\"2021-07-18T00:00:00\",\"2021-07-11T00:00:00\",\"2021-07-04T00:00:00\",\"2021-06-27T00:00:00\",\"2021-06-20T00:00:00\",\"2021-06-13T00:00:00\",\"2021-06-06T00:00:00\",\"2021-05-30T00:00:00\",\"2021-05-23T00:00:00\",\"2021-05-16T00:00:00\",\"2021-05-09T00:00:00\",\"2021-05-02T00:00:00\",\"2021-04-25T00:00:00\",\"2021-04-18T00:00:00\",\"2021-04-11T00:00:00\",\"2021-04-04T00:00:00\",\"2021-03-28T00:00:00\",\"2021-03-21T00:00:00\",\"2021-03-14T00:00:00\",\"2021-03-07T00:00:00\",\"2021-02-28T00:00:00\",\"2021-02-21T00:00:00\",\"2021-02-14T00:00:00\",\"2021-02-07T00:00:00\",\"2021-01-31T00:00:00\",\"2021-01-24T00:00:00\",\"2021-01-17T00:00:00\",\"2021-01-10T00:00:00\",\"2021-01-03T00:00:00\",\"2020-12-27T00:00:00\",\"2020-12-20T00:00:00\",\"2020-12-13T00:00:00\",\"2020-12-06T00:00:00\",\"2020-11-29T00:00:00\",\"2020-11-22T00:00:00\",\"2020-11-15T00:00:00\",\"2020-11-08T00:00:00\",\"2020-11-01T00:00:00\",\"2020-10-25T00:00:00\",\"2020-10-18T00:00:00\",\"2020-10-11T00:00:00\",\"2020-10-04T00:00:00\",\"2020-09-27T00:00:00\",\"2020-09-20T00:00:00\",\"2020-09-13T00:00:00\",\"2020-09-06T00:00:00\",\"2020-08-30T00:00:00\",\"2020-08-23T00:00:00\",\"2020-08-16T00:00:00\",\"2020-08-09T00:00:00\",\"2020-08-02T00:00:00\",\"2020-07-26T00:00:00\",\"2020-07-19T00:00:00\",\"2020-07-12T00:00:00\",\"2020-07-05T00:00:00\",\"2020-06-28T00:00:00\",\"2020-06-21T00:00:00\",\"2020-06-14T00:00:00\",\"2020-06-07T00:00:00\",\"2020-05-31T00:00:00\",\"2020-05-24T00:00:00\",\"2020-05-17T00:00:00\",\"2020-05-10T00:00:00\",\"2020-05-03T00:00:00\",\"2020-04-26T00:00:00\",\"2020-04-19T00:00:00\",\"2020-04-12T00:00:00\",\"2020-04-05T00:00:00\",\"2020-03-29T00:00:00\",\"2020-03-22T00:00:00\",\"2020-03-15T00:00:00\",\"2020-03-08T00:00:00\",\"2020-03-01T00:00:00\",\"2020-02-23T00:00:00\",\"2020-02-16T00:00:00\",\"2020-02-09T00:00:00\",\"2020-02-02T00:00:00\",\"2020-01-26T00:00:00\",\"2020-01-19T00:00:00\",\"2020-01-12T00:00:00\",\"2020-01-05T00:00:00\",\"2019-12-29T00:00:00\",\"2019-12-22T00:00:00\",\"2019-12-15T00:00:00\",\"2019-12-08T00:00:00\",\"2019-12-01T00:00:00\",\"2019-11-24T00:00:00\",\"2019-11-17T00:00:00\",\"2019-11-10T00:00:00\",\"2019-11-03T00:00:00\",\"2019-10-27T00:00:00\",\"2019-10-20T00:00:00\",\"2019-10-13T00:00:00\",\"2019-10-06T00:00:00\",\"2019-09-29T00:00:00\",\"2019-09-22T00:00:00\",\"2019-09-15T00:00:00\",\"2019-09-08T00:00:00\",\"2019-09-01T00:00:00\",\"2019-08-25T00:00:00\",\"2019-08-18T00:00:00\",\"2019-08-11T00:00:00\",\"2019-08-04T00:00:00\",\"2019-07-28T00:00:00\",\"2019-07-21T00:00:00\",\"2019-07-14T00:00:00\",\"2019-07-07T00:00:00\",\"2019-06-30T00:00:00\",\"2019-06-23T00:00:00\",\"2019-06-16T00:00:00\",\"2019-06-09T00:00:00\",\"2019-06-02T00:00:00\",\"2019-05-26T00:00:00\",\"2019-05-19T00:00:00\",\"2019-05-12T00:00:00\",\"2019-05-05T00:00:00\",\"2019-04-28T00:00:00\",\"2019-04-21T00:00:00\",\"2019-04-14T00:00:00\",\"2019-04-07T00:00:00\",\"2019-03-31T00:00:00\",\"2019-03-24T00:00:00\",\"2019-03-17T00:00:00\",\"2019-03-10T00:00:00\",\"2019-03-03T00:00:00\",\"2019-02-24T00:00:00\",\"2019-02-17T00:00:00\",\"2019-02-10T00:00:00\",\"2019-02-03T00:00:00\",\"2019-01-27T00:00:00\",\"2019-01-20T00:00:00\",\"2019-01-13T00:00:00\",\"2019-01-06T00:00:00\",\"2018-12-30T00:00:00\",\"2018-12-23T00:00:00\",\"2018-12-16T00:00:00\",\"2018-12-09T00:00:00\",\"2018-12-02T00:00:00\",\"2018-11-25T00:00:00\",\"2018-11-18T00:00:00\"],\"xaxis\":\"x\",\"y\":[10,7,11,10,9,9,7,8,9,9,8,7,7,8,7,6,7,7,6,6,7,6,7,6,5,6,8,6,7,7,6,6,6,5,7,6,7,5,5,8,6,6,8,7,6,8,9,7,8,8,10,7,7,6,8,6,7,7,8,5,6,6,5,5,6,5,5,6,6,5,5,6,4,4,4,5,6,4,4,5,6,6,6,6,4,6,5,6,6,5,5,5,5,7,5,6,5,5,5,6,7,6,6,5,5,4,6,4,6,3,5,4,5,6,3,4,4,3,4,3,3,5,4,3,3,4,2,4,2,4,3,3,2,4,4,4,3,3,3,1,3,2,2,3,5,3,2,3,3,3,3,4,4,3,3,4,3,2,2,3,4,2,2,2,2,3,2,2,2,2,4,3,2,2,3,2,2,1,2,2,1,3,1,1,2,1,1,2,1,2,2,2,3,3,3,2,2,2,2,2,2,2,2,2,3,3,2,2,2,1,1,3,3,2,1,2,1,2,1,2,1,1,1,2,2,1,1,1,2,2,1,1,1,1,1,2,2,2,0,1,1,2,1,2,2,2,1,2,1,2,1,2,2,2,1,2,2,2,2,2],\"yaxis\":\"y\",\"type\":\"scatter\"},{\"marker\":{\"color\":\"red\",\"size\":10},\"mode\":\"markers\",\"name\":\"anomaly\",\"x\":[\"2023-11-05T00:00:00\",\"2023-10-29T00:00:00\",\"2023-10-22T00:00:00\",\"2023-10-15T00:00:00\",\"2023-10-08T00:00:00\",\"2023-10-01T00:00:00\",\"2023-09-24T00:00:00\",\"2023-09-17T00:00:00\",\"2023-09-10T00:00:00\",\"2023-09-03T00:00:00\",\"2023-08-27T00:00:00\",\"2023-08-20T00:00:00\",\"2023-08-13T00:00:00\",\"2023-08-06T00:00:00\",\"2023-07-30T00:00:00\",\"2023-07-16T00:00:00\",\"2023-07-09T00:00:00\",\"2023-06-18T00:00:00\",\"2023-06-04T00:00:00\",\"2023-05-07T00:00:00\",\"2023-04-23T00:00:00\",\"2023-04-16T00:00:00\",\"2023-03-12T00:00:00\",\"2023-02-26T00:00:00\",\"2023-02-05T00:00:00\",\"2023-01-15T00:00:00\",\"2023-01-08T00:00:00\",\"2022-12-25T00:00:00\",\"2022-12-18T00:00:00\",\"2022-12-11T00:00:00\",\"2022-12-04T00:00:00\",\"2022-11-27T00:00:00\",\"2022-11-20T00:00:00\",\"2022-11-13T00:00:00\",\"2022-11-06T00:00:00\",\"2022-10-23T00:00:00\",\"2022-10-09T00:00:00\",\"2022-10-02T00:00:00\",\"2022-09-25T00:00:00\",\"2022-01-23T00:00:00\",\"2021-12-05T00:00:00\"],\"y\":[10,7,11,10,9,9,7,8,9,9,8,7,7,8,7,7,7,7,7,8,7,7,7,7,8,8,7,8,9,7,8,8,10,7,7,8,7,7,8,7,7],\"type\":\"scatter\"}],                        {\"template\":{\"data\":{\"barpolar\":[{\"marker\":{\"line\":{\"color\":\"rgb(17,17,17)\",\"width\":0.5},\"pattern\":{\"fillmode\":\"overlay\",\"size\":10,\"solidity\":0.2}},\"type\":\"barpolar\"}],\"bar\":[{\"error_x\":{\"color\":\"#f2f5fa\"},\"error_y\":{\"color\":\"#f2f5fa\"},\"marker\":{\"line\":{\"color\":\"rgb(17,17,17)\",\"width\":0.5},\"pattern\":{\"fillmode\":\"overlay\",\"size\":10,\"solidity\":0.2}},\"type\":\"bar\"}],\"carpet\":[{\"aaxis\":{\"endlinecolor\":\"#A2B1C6\",\"gridcolor\":\"#506784\",\"linecolor\":\"#506784\",\"minorgridcolor\":\"#506784\",\"startlinecolor\":\"#A2B1C6\"},\"baxis\":{\"endlinecolor\":\"#A2B1C6\",\"gridcolor\":\"#506784\",\"linecolor\":\"#506784\",\"minorgridcolor\":\"#506784\",\"startlinecolor\":\"#A2B1C6\"},\"type\":\"carpet\"}],\"choropleth\":[{\"colorbar\":{\"outlinewidth\":0,\"ticks\":\"\"},\"type\":\"choropleth\"}],\"contourcarpet\":[{\"colorbar\":{\"outlinewidth\":0,\"ticks\":\"\"},\"type\":\"contourcarpet\"}],\"contour\":[{\"colorbar\":{\"outlinewidth\":0,\"ticks\":\"\"},\"colorscale\":[[0.0,\"#0d0887\"],[0.1111111111111111,\"#46039f\"],[0.2222222222222222,\"#7201a8\"],[0.3333333333333333,\"#9c179e\"],[0.4444444444444444,\"#bd3786\"],[0.5555555555555556,\"#d8576b\"],[0.6666666666666666,\"#ed7953\"],[0.7777777777777778,\"#fb9f3a\"],[0.8888888888888888,\"#fdca26\"],[1.0,\"#f0f921\"]],\"type\":\"contour\"}],\"heatmapgl\":[{\"colorbar\":{\"outlinewidth\":0,\"ticks\":\"\"},\"colorscale\":[[0.0,\"#0d0887\"],[0.1111111111111111,\"#46039f\"],[0.2222222222222222,\"#7201a8\"],[0.3333333333333333,\"#9c179e\"],[0.4444444444444444,\"#bd3786\"],[0.5555555555555556,\"#d8576b\"],[0.6666666666666666,\"#ed7953\"],[0.7777777777777778,\"#fb9f3a\"],[0.8888888888888888,\"#fdca26\"],[1.0,\"#f0f921\"]],\"type\":\"heatmapgl\"}],\"heatmap\":[{\"colorbar\":{\"outlinewidth\":0,\"ticks\":\"\"},\"colorscale\":[[0.0,\"#0d0887\"],[0.1111111111111111,\"#46039f\"],[0.2222222222222222,\"#7201a8\"],[0.3333333333333333,\"#9c179e\"],[0.4444444444444444,\"#bd3786\"],[0.5555555555555556,\"#d8576b\"],[0.6666666666666666,\"#ed7953\"],[0.7777777777777778,\"#fb9f3a\"],[0.8888888888888888,\"#fdca26\"],[1.0,\"#f0f921\"]],\"type\":\"heatmap\"}],\"histogram2dcontour\":[{\"colorbar\":{\"outlinewidth\":0,\"ticks\":\"\"},\"colorscale\":[[0.0,\"#0d0887\"],[0.1111111111111111,\"#46039f\"],[0.2222222222222222,\"#7201a8\"],[0.3333333333333333,\"#9c179e\"],[0.4444444444444444,\"#bd3786\"],[0.5555555555555556,\"#d8576b\"],[0.6666666666666666,\"#ed7953\"],[0.7777777777777778,\"#fb9f3a\"],[0.8888888888888888,\"#fdca26\"],[1.0,\"#f0f921\"]],\"type\":\"histogram2dcontour\"}],\"histogram2d\":[{\"colorbar\":{\"outlinewidth\":0,\"ticks\":\"\"},\"colorscale\":[[0.0,\"#0d0887\"],[0.1111111111111111,\"#46039f\"],[0.2222222222222222,\"#7201a8\"],[0.3333333333333333,\"#9c179e\"],[0.4444444444444444,\"#bd3786\"],[0.5555555555555556,\"#d8576b\"],[0.6666666666666666,\"#ed7953\"],[0.7777777777777778,\"#fb9f3a\"],[0.8888888888888888,\"#fdca26\"],[1.0,\"#f0f921\"]],\"type\":\"histogram2d\"}],\"histogram\":[{\"marker\":{\"pattern\":{\"fillmode\":\"overlay\",\"size\":10,\"solidity\":0.2}},\"type\":\"histogram\"}],\"mesh3d\":[{\"colorbar\":{\"outlinewidth\":0,\"ticks\":\"\"},\"type\":\"mesh3d\"}],\"parcoords\":[{\"line\":{\"colorbar\":{\"outlinewidth\":0,\"ticks\":\"\"}},\"type\":\"parcoords\"}],\"pie\":[{\"automargin\":true,\"type\":\"pie\"}],\"scatter3d\":[{\"line\":{\"colorbar\":{\"outlinewidth\":0,\"ticks\":\"\"}},\"marker\":{\"colorbar\":{\"outlinewidth\":0,\"ticks\":\"\"}},\"type\":\"scatter3d\"}],\"scattercarpet\":[{\"marker\":{\"colorbar\":{\"outlinewidth\":0,\"ticks\":\"\"}},\"type\":\"scattercarpet\"}],\"scattergeo\":[{\"marker\":{\"colorbar\":{\"outlinewidth\":0,\"ticks\":\"\"}},\"type\":\"scattergeo\"}],\"scattergl\":[{\"marker\":{\"line\":{\"color\":\"#283442\"}},\"type\":\"scattergl\"}],\"scattermapbox\":[{\"marker\":{\"colorbar\":{\"outlinewidth\":0,\"ticks\":\"\"}},\"type\":\"scattermapbox\"}],\"scatterpolargl\":[{\"marker\":{\"colorbar\":{\"outlinewidth\":0,\"ticks\":\"\"}},\"type\":\"scatterpolargl\"}],\"scatterpolar\":[{\"marker\":{\"colorbar\":{\"outlinewidth\":0,\"ticks\":\"\"}},\"type\":\"scatterpolar\"}],\"scatter\":[{\"marker\":{\"line\":{\"color\":\"#283442\"}},\"type\":\"scatter\"}],\"scatterternary\":[{\"marker\":{\"colorbar\":{\"outlinewidth\":0,\"ticks\":\"\"}},\"type\":\"scatterternary\"}],\"surface\":[{\"colorbar\":{\"outlinewidth\":0,\"ticks\":\"\"},\"colorscale\":[[0.0,\"#0d0887\"],[0.1111111111111111,\"#46039f\"],[0.2222222222222222,\"#7201a8\"],[0.3333333333333333,\"#9c179e\"],[0.4444444444444444,\"#bd3786\"],[0.5555555555555556,\"#d8576b\"],[0.6666666666666666,\"#ed7953\"],[0.7777777777777778,\"#fb9f3a\"],[0.8888888888888888,\"#fdca26\"],[1.0,\"#f0f921\"]],\"type\":\"surface\"}],\"table\":[{\"cells\":{\"fill\":{\"color\":\"#506784\"},\"line\":{\"color\":\"rgb(17,17,17)\"}},\"header\":{\"fill\":{\"color\":\"#2a3f5f\"},\"line\":{\"color\":\"rgb(17,17,17)\"}},\"type\":\"table\"}]},\"layout\":{\"annotationdefaults\":{\"arrowcolor\":\"#f2f5fa\",\"arrowhead\":0,\"arrowwidth\":1},\"autotypenumbers\":\"strict\",\"coloraxis\":{\"colorbar\":{\"outlinewidth\":0,\"ticks\":\"\"}},\"colorscale\":{\"diverging\":[[0,\"#8e0152\"],[0.1,\"#c51b7d\"],[0.2,\"#de77ae\"],[0.3,\"#f1b6da\"],[0.4,\"#fde0ef\"],[0.5,\"#f7f7f7\"],[0.6,\"#e6f5d0\"],[0.7,\"#b8e186\"],[0.8,\"#7fbc41\"],[0.9,\"#4d9221\"],[1,\"#276419\"]],\"sequential\":[[0.0,\"#0d0887\"],[0.1111111111111111,\"#46039f\"],[0.2222222222222222,\"#7201a8\"],[0.3333333333333333,\"#9c179e\"],[0.4444444444444444,\"#bd3786\"],[0.5555555555555556,\"#d8576b\"],[0.6666666666666666,\"#ed7953\"],[0.7777777777777778,\"#fb9f3a\"],[0.8888888888888888,\"#fdca26\"],[1.0,\"#f0f921\"]],\"sequentialminus\":[[0.0,\"#0d0887\"],[0.1111111111111111,\"#46039f\"],[0.2222222222222222,\"#7201a8\"],[0.3333333333333333,\"#9c179e\"],[0.4444444444444444,\"#bd3786\"],[0.5555555555555556,\"#d8576b\"],[0.6666666666666666,\"#ed7953\"],[0.7777777777777778,\"#fb9f3a\"],[0.8888888888888888,\"#fdca26\"],[1.0,\"#f0f921\"]]},\"colorway\":[\"#636efa\",\"#EF553B\",\"#00cc96\",\"#ab63fa\",\"#FFA15A\",\"#19d3f3\",\"#FF6692\",\"#B6E880\",\"#FF97FF\",\"#FECB52\"],\"font\":{\"color\":\"#f2f5fa\"},\"geo\":{\"bgcolor\":\"rgb(17,17,17)\",\"lakecolor\":\"rgb(17,17,17)\",\"landcolor\":\"rgb(17,17,17)\",\"showlakes\":true,\"showland\":true,\"subunitcolor\":\"#506784\"},\"hoverlabel\":{\"align\":\"left\"},\"hovermode\":\"closest\",\"mapbox\":{\"style\":\"dark\"},\"paper_bgcolor\":\"rgb(17,17,17)\",\"plot_bgcolor\":\"rgb(17,17,17)\",\"polar\":{\"angularaxis\":{\"gridcolor\":\"#506784\",\"linecolor\":\"#506784\",\"ticks\":\"\"},\"bgcolor\":\"rgb(17,17,17)\",\"radialaxis\":{\"gridcolor\":\"#506784\",\"linecolor\":\"#506784\",\"ticks\":\"\"}},\"scene\":{\"xaxis\":{\"backgroundcolor\":\"rgb(17,17,17)\",\"gridcolor\":\"#506784\",\"gridwidth\":2,\"linecolor\":\"#506784\",\"showbackground\":true,\"ticks\":\"\",\"zerolinecolor\":\"#C8D4E3\"},\"yaxis\":{\"backgroundcolor\":\"rgb(17,17,17)\",\"gridcolor\":\"#506784\",\"gridwidth\":2,\"linecolor\":\"#506784\",\"showbackground\":true,\"ticks\":\"\",\"zerolinecolor\":\"#C8D4E3\"},\"zaxis\":{\"backgroundcolor\":\"rgb(17,17,17)\",\"gridcolor\":\"#506784\",\"gridwidth\":2,\"linecolor\":\"#506784\",\"showbackground\":true,\"ticks\":\"\",\"zerolinecolor\":\"#C8D4E3\"}},\"shapedefaults\":{\"line\":{\"color\":\"#f2f5fa\"}},\"sliderdefaults\":{\"bgcolor\":\"#C8D4E3\",\"bordercolor\":\"rgb(17,17,17)\",\"borderwidth\":1,\"tickwidth\":0},\"ternary\":{\"aaxis\":{\"gridcolor\":\"#506784\",\"linecolor\":\"#506784\",\"ticks\":\"\"},\"baxis\":{\"gridcolor\":\"#506784\",\"linecolor\":\"#506784\",\"ticks\":\"\"},\"bgcolor\":\"rgb(17,17,17)\",\"caxis\":{\"gridcolor\":\"#506784\",\"linecolor\":\"#506784\",\"ticks\":\"\"}},\"title\":{\"x\":0.05},\"updatemenudefaults\":{\"bgcolor\":\"#506784\",\"borderwidth\":0},\"xaxis\":{\"automargin\":true,\"gridcolor\":\"#283442\",\"linecolor\":\"#506784\",\"ticks\":\"\",\"title\":{\"standoff\":15},\"zerolinecolor\":\"#283442\",\"zerolinewidth\":2},\"yaxis\":{\"automargin\":true,\"gridcolor\":\"#283442\",\"linecolor\":\"#506784\",\"ticks\":\"\",\"title\":{\"standoff\":15},\"zerolinecolor\":\"#283442\",\"zerolinewidth\":2}}},\"xaxis\":{\"anchor\":\"y\",\"domain\":[0.0,1.0],\"title\":{\"text\":\"date\"}},\"yaxis\":{\"anchor\":\"x\",\"domain\":[0.0,1.0],\"title\":{\"text\":\"corduroy hat\"}},\"legend\":{\"tracegroupgap\":0},\"title\":{\"text\":\"Corduroy Hat Anomalies\"}},                        {\"responsive\": true}                    )                };                            </script>        </div>\n",
       "</body>\n",
       "</html>"
      ]
     },
     "metadata": {},
     "output_type": "display_data"
    }
   ],
   "source": [
    "# get_anomaly_trend(df_anom,\"corduroy hat\")"
   ]
  },
  {
   "cell_type": "code",
   "execution_count": null,
   "metadata": {
    "application/vnd.databricks.v1+cell": {
     "cellMetadata": {
      "byteLimit": 2048000,
      "rowLimit": 10000
     },
     "inputWidgets": {},
     "nuid": "db6823c2-34a1-4b1b-a0bc-17012aa348df",
     "showTitle": false,
     "title": ""
    }
   },
   "outputs": [],
   "source": [
    "def send_mail(_from : str, _to : str, kwd : str, api_key : str):\n",
    "    # Prepare the email content\n",
    "    message = Mail(\n",
    "        from_email=_from,\n",
    "        to_emails=_to,\n",
    "        subject='Weekly Keyword Search Volume Increase - Demand > 75th Percentile',\n",
    "        html_content='<strong>Check out the trend visualization:</strong>')\n",
    "\n",
    "    # Read the image file\n",
    "    with open(f\"./anomaly_{kwd.replace(' ','_')}.png\", 'rb') as f:\n",
    "        data = f.read()\n",
    "        f.close()\n",
    "\n",
    "    # Attach the image to the email\n",
    "    encoded_file = os.path.basename(f\"./anomaly_{kwd.replace(' ','_')}.png\")\n",
    "    attachedFile = Attachment(\n",
    "        FileContent(encoded_file),\n",
    "        FileName(encoded_file),\n",
    "        FileType('image/png'),\n",
    "        Disposition('attachment')\n",
    "    )\n",
    "    message.attachment = attachedFile\n",
    "\n",
    "    # Send the email via SendGrid\n",
    "    try:\n",
    "        sg = SendGridAPIClient(api_key)\n",
    "        response = sg.send(message)\n",
    "        print(response.status_code)\n",
    "        print(response.body)\n",
    "        print(response.headers)\n",
    "    except Exception as e:\n",
    "        print(str(e))"
   ]
  },
  {
   "cell_type": "code",
   "execution_count": null,
   "metadata": {
    "application/vnd.databricks.v1+cell": {
     "cellMetadata": {
      "byteLimit": 2048000,
      "rowLimit": 10000
     },
     "inputWidgets": {},
     "nuid": "391fbbc3-97b1-43a3-aaf5-26d0cf9c5dd9",
     "showTitle": false,
     "title": ""
    }
   },
   "outputs": [
    {
     "data": {
      "text/html": [
       "<div>\n",
       "<style scoped>\n",
       "    .dataframe tbody tr th:only-of-type {\n",
       "        vertical-align: middle;\n",
       "    }\n",
       "\n",
       "    .dataframe tbody tr th {\n",
       "        vertical-align: top;\n",
       "    }\n",
       "\n",
       "    .dataframe thead th {\n",
       "        text-align: right;\n",
       "    }\n",
       "</style>\n",
       "<table border=\"1\" class=\"dataframe\">\n",
       "  <thead>\n",
       "    <tr style=\"text-align: right;\">\n",
       "      <th></th>\n",
       "      <th>date</th>\n",
       "      <th>corduroy hat</th>\n",
       "      <th>corduroy pants</th>\n",
       "      <th>trail running pack</th>\n",
       "      <th>isPartial</th>\n",
       "    </tr>\n",
       "  </thead>\n",
       "  <tbody>\n",
       "    <tr>\n",
       "      <th>0</th>\n",
       "      <td>2018-11-18</td>\n",
       "      <td>2</td>\n",
       "      <td>48</td>\n",
       "      <td>0</td>\n",
       "      <td>False</td>\n",
       "    </tr>\n",
       "    <tr>\n",
       "      <th>1</th>\n",
       "      <td>2018-11-25</td>\n",
       "      <td>2</td>\n",
       "      <td>50</td>\n",
       "      <td>0</td>\n",
       "      <td>False</td>\n",
       "    </tr>\n",
       "    <tr>\n",
       "      <th>2</th>\n",
       "      <td>2018-12-02</td>\n",
       "      <td>2</td>\n",
       "      <td>45</td>\n",
       "      <td>0</td>\n",
       "      <td>False</td>\n",
       "    </tr>\n",
       "    <tr>\n",
       "      <th>3</th>\n",
       "      <td>2018-12-09</td>\n",
       "      <td>2</td>\n",
       "      <td>45</td>\n",
       "      <td>0</td>\n",
       "      <td>False</td>\n",
       "    </tr>\n",
       "    <tr>\n",
       "      <th>4</th>\n",
       "      <td>2018-12-16</td>\n",
       "      <td>2</td>\n",
       "      <td>38</td>\n",
       "      <td>2</td>\n",
       "      <td>False</td>\n",
       "    </tr>\n",
       "    <tr>\n",
       "      <th>...</th>\n",
       "      <td>...</td>\n",
       "      <td>...</td>\n",
       "      <td>...</td>\n",
       "      <td>...</td>\n",
       "      <td>...</td>\n",
       "    </tr>\n",
       "    <tr>\n",
       "      <th>255</th>\n",
       "      <td>2023-10-08</td>\n",
       "      <td>9</td>\n",
       "      <td>65</td>\n",
       "      <td>1</td>\n",
       "      <td>False</td>\n",
       "    </tr>\n",
       "    <tr>\n",
       "      <th>256</th>\n",
       "      <td>2023-10-15</td>\n",
       "      <td>10</td>\n",
       "      <td>66</td>\n",
       "      <td>0</td>\n",
       "      <td>False</td>\n",
       "    </tr>\n",
       "    <tr>\n",
       "      <th>257</th>\n",
       "      <td>2023-10-22</td>\n",
       "      <td>11</td>\n",
       "      <td>62</td>\n",
       "      <td>1</td>\n",
       "      <td>False</td>\n",
       "    </tr>\n",
       "    <tr>\n",
       "      <th>258</th>\n",
       "      <td>2023-10-29</td>\n",
       "      <td>7</td>\n",
       "      <td>69</td>\n",
       "      <td>0</td>\n",
       "      <td>False</td>\n",
       "    </tr>\n",
       "    <tr>\n",
       "      <th>259</th>\n",
       "      <td>2023-11-05</td>\n",
       "      <td>10</td>\n",
       "      <td>75</td>\n",
       "      <td>0</td>\n",
       "      <td>True</td>\n",
       "    </tr>\n",
       "  </tbody>\n",
       "</table>\n",
       "<p>260 rows × 5 columns</p>\n",
       "</div>"
      ],
      "text/plain": [
       "          date  corduroy hat  corduroy pants  trail running pack  isPartial\n",
       "0   2018-11-18             2              48                   0      False\n",
       "1   2018-11-25             2              50                   0      False\n",
       "2   2018-12-02             2              45                   0      False\n",
       "3   2018-12-09             2              45                   0      False\n",
       "4   2018-12-16             2              38                   2      False\n",
       "..         ...           ...             ...                 ...        ...\n",
       "255 2023-10-08             9              65                   1      False\n",
       "256 2023-10-15            10              66                   0      False\n",
       "257 2023-10-22            11              62                   1      False\n",
       "258 2023-10-29             7              69                   0      False\n",
       "259 2023-11-05            10              75                   0       True\n",
       "\n",
       "[260 rows x 5 columns]"
      ]
     },
     "execution_count": 31,
     "metadata": {},
     "output_type": "execute_result"
    }
   ],
   "source": [
    "# trends = get_interest_trends_kw(keywords_to_monitor)\n",
    "# trends.head()"
   ]
  },
  {
   "cell_type": "code",
   "execution_count": null,
   "metadata": {
    "application/vnd.databricks.v1+cell": {
     "cellMetadata": {
      "byteLimit": 2048000,
      "rowLimit": 10000
     },
     "inputWidgets": {},
     "nuid": "b8f50cb2-8db5-40b3-93db-cfb4a92bb731",
     "showTitle": false,
     "title": ""
    }
   },
   "outputs": [
    {
     "name": "stdout",
     "output_type": "stream",
     "text": [
      "202\n",
      "b''\n",
      "Server: nginx\n",
      "Date: Mon, 13 Nov 2023 00:46:23 GMT\n",
      "Content-Length: 0\n",
      "Connection: close\n",
      "X-Message-Id: zQNcBxDuSW-vmoGr97jWow\n",
      "Access-Control-Allow-Origin: https://sendgrid.api-docs.io\n",
      "Access-Control-Allow-Methods: POST\n",
      "Access-Control-Allow-Headers: Authorization, Content-Type, On-behalf-of, x-sg-elas-acl\n",
      "Access-Control-Max-Age: 600\n",
      "X-No-CORS-Reason: https://sendgrid.com/docs/Classroom/Basics/API/cors.html\n",
      "Strict-Transport-Security: max-age=600; includeSubDomains\n",
      "\n",
      "\n",
      "HTTP Error 400: Bad Request\n"
     ]
    }
   ],
   "source": [
    "for kwd in keywords_to_monitor:\n",
    "    df_anom = get_anomalous_records(trends, \"date\", kwd)\n",
    "    if past_week_anomaly(df_anom) == True:\n",
    "        get_anomaly_trend(df_anom,kwd)\n",
    "        send_mail(_from=\"yy@gmail.com\", _to=\"xx@gmail.com\", kwd=kwd, api_key=os.getenv(\"SG_API_KEY\"))"
   ]
  }
 ],
 "metadata": {
  "application/vnd.databricks.v1+notebook": {
   "dashboards": [],
   "language": "python",
   "notebookMetadata": {
    "pythonIndentUnit": 4
   },
   "notebookName": "market_demand_alert",
   "widgets": {}
  },
  "language_info": {
   "name": "python"
  }
 },
 "nbformat": 4,
 "nbformat_minor": 0
}
